{
 "cells": [
  {
   "cell_type": "markdown",
   "metadata": {},
   "source": [
    "# Customer Churn Prediction: Data Visualization\n",
    "In this notebook, we will perform a in-depth exploratory data analysis (EDA) to understand the distribution of features, examine relationships with the target variable (\"Churn\"), and gain insights that will guide the predictive modeling process.\n",
    "## Key Steps in this Notebook:\n",
    "1. Univariate Analysis\n",
    "    - Histograms, box plots, and bar charts for individual features.\n",
    "    - Traget variable distribution.\n",
    "2. Bivariate Analysis\n",
    "    - For numerical features: scatter plots and correlation heatmaps.\n",
    "    - For categorical features: bar plots and pie charts.\n",
    "3. Key Insights"
   ]
  },
  {
   "cell_type": "markdown",
   "metadata": {},
   "source": [
    "### Import Libraries and Load Dataset"
   ]
  },
  {
   "cell_type": "markdown",
   "metadata": {},
   "source": [
    "# Import necessary libraries\n",
    "import pandas as pd\n",
    "import numpy as np\n",
    "import seaborn as sns\n",
    "import matplotlib.pyplot as plt\n",
    "from scipy import stats\n"
   ]
  }
 ],
 "metadata": {
  "language_info": {
   "name": "python"
  }
 },
 "nbformat": 4,
 "nbformat_minor": 2
}
